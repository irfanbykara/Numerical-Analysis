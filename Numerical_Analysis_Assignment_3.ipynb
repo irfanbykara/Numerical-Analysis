{
  "nbformat": 4,
  "nbformat_minor": 0,
  "metadata": {
    "colab": {
      "provenance": [],
      "authorship_tag": "ABX9TyPyFOvxh2GzCfiLMhXV6omp",
      "include_colab_link": true
    },
    "kernelspec": {
      "name": "python3",
      "display_name": "Python 3"
    },
    "language_info": {
      "name": "python"
    }
  },
  "cells": [
    {
      "cell_type": "markdown",
      "metadata": {
        "id": "view-in-github",
        "colab_type": "text"
      },
      "source": [
        "<a href=\"https://colab.research.google.com/github/irfanbykara/Numerical-Analysis/blob/main/Numerical_Analysis_Assignment_3.ipynb\" target=\"_parent\"><img src=\"https://colab.research.google.com/assets/colab-badge.svg\" alt=\"Open In Colab\"/></a>"
      ]
    },
    {
      "cell_type": "code",
      "execution_count": 21,
      "metadata": {
        "colab": {
          "base_uri": "https://localhost:8080/"
        },
        "id": "v5pX_71THi-x",
        "outputId": "0a7ed1ea-ec95-49f7-c267-ddf6992aca9e"
      },
      "outputs": [
        {
          "output_type": "stream",
          "name": "stdout",
          "text": [
            "Importing done...\n"
          ]
        }
      ],
      "source": [
        "import math\n",
        "from scipy import optimize\n",
        "import matplotlib.pyplot as plt\n",
        "from sympy import *\n",
        "import numpy as np\n",
        "import scipy\n",
        "import time \n",
        "\n",
        "print('Importing done...')"
      ]
    },
    {
      "cell_type": "markdown",
      "source": [
        "**# Task 1:**"
      ],
      "metadata": {
        "id": "LElIhSzJHpnz"
      }
    },
    {
      "cell_type": "code",
      "source": [
        "def first_term(x,n):\n",
        "  y_prime = 1/(1+x**2)\n",
        "  for i in range(n+1):\n",
        "    y_prime = y_prime.diff(x)\n",
        "  f_derivative = lambdify(x, y_prime, 'numpy')\n",
        "  solution = scipy.optimize.minimize_scalar(lambda x: -f_derivative(x), bounds=[-5,5], method='bounded')\n",
        "  return f_derivative(solution.x) / math.factorial(n+1)\n",
        "\n",
        "\n",
        "def zeros_of_Tn(n):\n",
        "  \n",
        "  res_list = list()\n",
        "  for i in range(n+1):\n",
        "    temp_res = np.cos(((2*i-1)*180)/2*n)\n",
        "\n",
        "    res_list.append(temp_res)\n",
        "    return res_list\n",
        "\n",
        "def second_term_with_chebyshev(x,n):\n",
        "  res = 1\n",
        "  zeros = zeros_of_Tn(n)\n",
        "  for val in zeros:\n",
        "    res *= x - val\n",
        "  return res\n",
        "\n",
        "\n",
        "def second_term(x,n):\n",
        "  res = 1\n",
        "  start = -5 \n",
        "  end = 5\n",
        "\n",
        "  step = abs(start-end)/n\n",
        "  val = start\n",
        "\n",
        "  for i in range(n+1):\n",
        "    res *= x-val\n",
        "    val +=step\n",
        "  return res\n"
      ],
      "metadata": {
        "id": "K2XDpLQQHoLZ"
      },
      "execution_count": 22,
      "outputs": []
    },
    {
      "cell_type": "markdown",
      "source": [
        "Lagrange Error With Equidistant Points:"
      ],
      "metadata": {
        "id": "CNnSLNtjInJh"
      }
    },
    {
      "cell_type": "code",
      "source": [
        "def lagrange_error(x,n):\n",
        "  max_second_term = scipy.optimize.minimize_scalar(lambda x: -second_term(x,n), bounds=[-5,5], method='bounded')\n",
        "  max_second_term_val = second_term(max_second_term.x,n)\n",
        "\n",
        "  max_first_term_val = first_term(x,n)\n",
        "\n",
        "  lagrange_error = max_first_term_val * max_second_term_val\n",
        "  return lagrange_error\n",
        "\n",
        "error_vals_list = list()\n",
        "\n",
        "for i in range(2,49,2):\n",
        "  error_val = lagrange_error(Symbol('x'),i)\n",
        "  error_vals_list.append(error_val)\n",
        "\n",
        "\n",
        "xpoints = list(range(2,49,2))\n",
        "ypoints = error_vals_list\n",
        "\n",
        "print(np.mean(error_vals_list))\n",
        "\n",
        "plt.plot(xpoints, ypoints, 'o')\n",
        "plt.show()\n"
      ],
      "metadata": {
        "colab": {
          "base_uri": "https://localhost:8080/",
          "height": 293
        },
        "id": "JoEdNwlfH7dH",
        "outputId": "708125d8-c611-4fa4-956d-b69e2257f57e"
      },
      "execution_count": 23,
      "outputs": [
        {
          "output_type": "stream",
          "name": "stdout",
          "text": [
            "152466698311.1392\n"
          ]
        },
        {
          "output_type": "display_data",
          "data": {
            "text/plain": [
              "<Figure size 432x288 with 1 Axes>"
            ],
            "image/png": "[encoded data removed]"
          },
          "metadata": {
            "needs_background": "light"
          }
        }
      ]
    },
    {
      "cell_type": "markdown",
      "source": [
        "Lagrange Error with Zeros of Chebyshev:"
      ],
      "metadata": {
        "id": "hLwZGb-cIqV0"
      }
    },
    {
      "cell_type": "code",
      "source": [
        "def lagrange_error_with_cheby(x,n):\n",
        "  max_second_term = scipy.optimize.minimize_scalar(lambda x: -second_term_with_chebyshev(x,n), bounds=[-5,5], method='bounded')\n",
        "  max_second_term_val = second_term_with_chebyshev(max_second_term.x,n)\n",
        "\n",
        "  max_first_term_val = first_term(x,n)\n",
        "\n",
        "  lagrange_error = max_first_term_val * max_second_term_val\n",
        "  return lagrange_error\n",
        "\n",
        "error_vals_list = list()\n",
        "for i in range(2,49,2):\n",
        "  error_val = lagrange_error_with_cheby(Symbol('x'),i)\n",
        "  error_vals_list.append(error_val)\n",
        "\n",
        "\n",
        "xpoints = list(range(2,49,2))\n",
        "ypoints = error_vals_list\n",
        "\n",
        "print(np.mean(error_vals_list))\n",
        "plt.plot(xpoints, ypoints, 'o')\n",
        "plt.show()\n"
      ],
      "metadata": {
        "colab": {
          "base_uri": "https://localhost:8080/",
          "height": 282
        },
        "id": "V76NwyvLH9t_",
        "outputId": "e5737567-788c-466d-e167-92917a703d81"
      },
      "execution_count": 24,
      "outputs": [
        {
          "output_type": "stream",
          "name": "stdout",
          "text": [
            "0.7170193767569483\n"
          ]
        },
        {
          "output_type": "display_data",
          "data": {
            "text/plain": [
              "<Figure size 432x288 with 1 Axes>"
            ],
            "image/png": "[encoded data removed]"
          },
          "metadata": {
            "needs_background": "light"
          }
        }
      ]
    },
    {
      "cell_type": "markdown",
      "source": [
        "Comments for Task 1: As it can be clearly seen using zeros of chebyshev instead of equidistant points as the knots of the interpolation helped us deal with Runge's phenomenon. The mean value of the error terms of the chebyshev example was significantly less than the equidistant points example.*italik metin*"
      ],
      "metadata": {
        "id": "0z_MnDC0Jdic"
      }
    },
    {
      "cell_type": "markdown",
      "source": [
        "**Task 2:**"
      ],
      "metadata": {
        "id": "Q8K_eAVjICN-"
      }
    },
    {
      "cell_type": "code",
      "source": [
        "def spline_func(x,t):\n",
        "  return np.sin(np.deg2rad(5*180*x))*np.cos(np.deg2rad(10*180*t)) + 2 * np.sin(np.deg2rad(7*180*x)) * np.sin(np.deg2rad(14*180*t))"
      ],
      "metadata": {
        "id": "JUjCdJRmIBkS"
      },
      "execution_count": 25,
      "outputs": []
    },
    {
      "cell_type": "code",
      "source": [
        "def spline_func_derivative(x,t):\n",
        "  return 5*np.pi* (np.cos(10*np.deg2rad(180)*t)*np.cos(5*np.deg2rad(180)*x)+14*np.pi*np.cos(14*np.deg2rad(180)*t)*np.cos(7*np.deg2rad(180)*x))\n"
      ],
      "metadata": {
        "id": "_hZHc7faIGy4"
      },
      "execution_count": 26,
      "outputs": []
    },
    {
      "cell_type": "markdown",
      "source": [
        "Linear Spline:"
      ],
      "metadata": {
        "id": "GlH8H5OPIjXy"
      }
    },
    {
      "cell_type": "code",
      "source": [
        "def linear_spline_interpolation(x,t):\n",
        "  spline_func_list = list()\n",
        "  for i in range(51):\n",
        "\n",
        "    if i != 0:\n",
        "      k = i/50\n",
        "      l = (i-1) / 50\n",
        "      sl = (k - x) / (k-l) * spline_func(l,t) + (x - l)/(k-l)*spline_func(k,t)\n",
        "      spline_func_list.append(sl)\n",
        "  return spline_func_list"
      ],
      "metadata": {
        "id": "n_g5PI0PIIke"
      },
      "execution_count": 27,
      "outputs": []
    },
    {
      "cell_type": "code",
      "source": [
        "def plot_linear_spline(x,t):\n",
        "  linear_func_list = linear_spline_interpolation(x, t)\n",
        "  x_list = list()\n",
        "  y_list = list()\n",
        "  for i in range(len(linear_func_list)):\n",
        "    temp_func = lambdify(x, linear_func_list[i], 'numpy')  \n",
        "    if i!=0:\n",
        "\n",
        "      v = np.linspace((i-1)/50,i/50,10)\n",
        "      x_list.append(v)\n",
        "      y_list.append(temp_func(v))\n",
        "  return x_list,y_list\n",
        "\n",
        "x_list, y_list = plot_linear_spline(Symbol('x'),1/2)\n",
        "\n",
        "fig = plt.figure()\n",
        "ax = fig.add_subplot(1, 1, 1)\n",
        "## This is a trial to see if the function interpolates correctly for t = 0.5\n",
        "plt.title('Trial Graph for t=0.5')\n",
        "\n",
        "plt.plot(x_list,y_list, 'r')\n",
        "plt.show()"
      ],
      "metadata": {
        "colab": {
          "base_uri": "https://localhost:8080/",
          "height": 281
        },
        "id": "lWbzHAJGIKXN",
        "outputId": "ba77544e-a23a-4f4c-a7a2-1d54f0111d2c"
      },
      "execution_count": 28,
      "outputs": [
        {
          "output_type": "display_data",
          "data": {
            "text/plain": [
              "<Figure size 432x288 with 1 Axes>"
            ],
            "image/png": "[encoded data removed]"
          },
          "metadata": {
            "needs_background": "light"
          }
        }
      ]
    },
    {
      "cell_type": "code",
      "source": [
        " \n",
        "x,y = plot_linear_spline(Symbol('x'),0)\n",
        "# enable interactive mode\n",
        "plt.ion()\n",
        "# creating subplot and figure\n",
        "fig = plt.figure()\n",
        "ax = fig.add_subplot(1,1,1)\n",
        "line1, = ax.plot(x[0], y[0])\n",
        "plt.xlim([0,1])\n",
        "plt.ylim([-3,3])\n",
        "\n",
        "\n",
        "# You are not going to see this as an animation in the colab. Please checkout the video.\n",
        "# looping\n",
        "for i in range(51):\n",
        "    x ,y= plot_linear_spline(Symbol('x'),i/50)\n",
        "\n",
        "    # updating the value of x and y\n",
        "    line1.set_xdata(x)\n",
        "    line1.set_ydata(y)\n",
        " \n",
        "    # re-drawing the figure\n",
        "    fig.canvas.draw()\n",
        "     \n",
        "    # to flush the GUI events\n",
        "    fig.canvas.flush_events()\n",
        "    time.sleep(0.1)\n",
        "\n"
      ],
      "metadata": {
        "colab": {
          "base_uri": "https://localhost:8080/",
          "height": 269
        },
        "id": "QMQjSpTWIM4W",
        "outputId": "9e35a4f4-c1f1-4aff-fbdd-60292782e422"
      },
      "execution_count": 29,
      "outputs": [
        {
          "output_type": "display_data",
          "data": {
            "text/plain": [
              "<Figure size 432x288 with 1 Axes>"
            ],
            "image/png": "[encoded data removed]"
          },
          "metadata": {
            "needs_background": "light"
          }
        }
      ]
    },
    {
      "cell_type": "markdown",
      "source": [
        "Hermit Interpolation :"
      ],
      "metadata": {
        "id": "dpEzave5Ig7U"
      }
    },
    {
      "cell_type": "code",
      "source": [
        "def hermite_cubic(x,t):\n",
        "  hermite_func_list = list()\n",
        "  for i in range(51):\n",
        "    if i!=0:\n",
        "\n",
        "      k = i/50\n",
        "      l = (i-1)/50\n",
        "      h = 1/50\n",
        "\n",
        "      h0 = (x-k)**2/h**2 * (1+2/h*(x-l))\n",
        "      k0 = (x-k)**2/h**2 * (x-l)\n",
        "      h1 = (x-l)**2/h**2 * (1-2/h*(x-k))\n",
        "      k1 = (x-l)**2/h**2 * (x-k)\n",
        "\n",
        "      sh = h0 * spline_func(l,t) + spline_func_derivative(l,t) * k0 + h1 * spline_func(k,t) + k1 * spline_func_derivative(k,t)\n",
        "      hermite_func_list.append(sh)\n",
        "  return hermite_func_list"
      ],
      "metadata": {
        "id": "SdHgnRZ9IQry"
      },
      "execution_count": 30,
      "outputs": []
    },
    {
      "cell_type": "code",
      "source": [
        "def plot_hermite_spline(x,t):\n",
        "  hermite_func_list = hermite_cubic(x, t)\n",
        "  temp_func_0 = lambdify(x, hermite_func_list[0], 'numpy')  \n",
        "\n",
        "  x_list = list()\n",
        "  y_list = list()  \n",
        "  for i in range(len(hermite_func_list)):\n",
        "    if i!=0:\n",
        "      temp_func = lambdify(x, hermite_func_list[i-1], 'numpy')  \n",
        "\n",
        "      v = np.array([(i-1)/50,i/50])\n",
        "      x_list.append(v)\n",
        "      y_list.append(temp_func(v))\n",
        "  return x_list,y_list\n",
        "                                     \n",
        "x_list_1, y_list_1 = plot_hermite_spline(Symbol('x'),1/2 )\n",
        "\n",
        "fig = plt.figure()\n",
        "ax = fig.add_subplot(1, 1, 1)\n",
        "plt.xlim([0,1])\n",
        "\n",
        "## This is a trial to see if the function interpolates correctly for t = 0.5\n",
        "\n",
        "plt.plot(x_list_1,y_list_1, 'r')\n",
        "plt.title('Trial Graph for t=0.5')\n",
        "plt.show()"
      ],
      "metadata": {
        "colab": {
          "base_uri": "https://localhost:8080/",
          "height": 281
        },
        "id": "soLtwv-OITNF",
        "outputId": "1c470adb-0a6f-4916-bc36-51e27587c6dc"
      },
      "execution_count": 31,
      "outputs": [
        {
          "output_type": "display_data",
          "data": {
            "text/plain": [
              "<Figure size 432x288 with 1 Axes>"
            ],
            "image/png": "[encoded data removed]"
          },
          "metadata": {
            "needs_background": "light"
          }
        }
      ]
    },
    {
      "cell_type": "code",
      "source": [
        "x,y = plot_hermite_spline(Symbol('x'),0)\n",
        "# enable interactive mode\n",
        "plt.ion()\n",
        "# creating subplot and figure\n",
        "fig = plt.figure()\n",
        "ax = fig.add_subplot(1,1,1)\n",
        "line1, = ax.plot(x[0], y[0])\n",
        "\n",
        "plt.xlim([0,1])\n",
        "plt.ylim([-3,3])\n",
        "\n",
        "\n",
        "\n",
        " \n",
        "# You are not going to see this as an animation in the colab. Please checkout the video.\n",
        "\n",
        "# looping\n",
        "for i in range(1,51):\n",
        "    plt.title(f\"Graph for t{i}: {i/50}\")\n",
        "\n",
        "    x ,y= plot_hermite_spline(Symbol('x'),i/50)\n",
        "\n",
        "    # updating the value of x and y\n",
        "    line1.set_xdata(x)\n",
        "    line1.set_ydata(y)\n",
        " \n",
        "    # re-drawing the figure\n",
        "    fig.canvas.draw()\n",
        "     \n",
        "    # to flush the GUI events\n",
        "    fig.canvas.flush_events()\n",
        "    time.sleep(0.1)\n",
        "\n"
      ],
      "metadata": {
        "colab": {
          "base_uri": "https://localhost:8080/",
          "height": 281
        },
        "id": "xh1iZUpsIV9c",
        "outputId": "52b93ae9-ff90-46a3-82b9-b17570e98e90"
      },
      "execution_count": 32,
      "outputs": [
        {
          "output_type": "display_data",
          "data": {
            "text/plain": [
              "<Figure size 432x288 with 1 Axes>"
            ],
            "image/png": "[encoded data removed]"
          },
          "metadata": {
            "needs_background": "light"
          }
        }
      ]
    },
    {
      "cell_type": "markdown",
      "source": [
        "Cubic Spline :"
      ],
      "metadata": {
        "id": "LyBwMDlVIXfF"
      }
    },
    {
      "cell_type": "code",
      "source": [
        "from typing import Tuple, List\n",
        "import bisect\n",
        "\n",
        "def compute_changes(x: List[float]) -> List[float]:\n",
        "    return [x[i+1] - x[i] for i in range(len(x) - 1)]\n",
        "\n",
        "def create_tridiagonalmatrix(n: int, h: List[float]) -> Tuple[List[float], List[float], List[float]]:\n",
        "    A = [h[i] / (h[i] + h[i + 1]) for i in range(n - 2)] + [0]\n",
        "    B = [2] * n\n",
        "    C = [0] + [h[i + 1] / (h[i] + h[i + 1]) for i in range(n - 2)]\n",
        "    return A, B, C\n",
        "\n",
        "def create_target(n: int, h: List[float], y: List[float]):\n",
        "    return [0] + [6 * ((y[i + 1] - y[i]) / h[i] - (y[i] - y[i - 1]) / h[i - 1]) / (h[i] + h[i-1]) for i in range(1, n - 1)] + [0]\n",
        "\n",
        "def solve_tridiagonalsystem(A: List[float], B: List[float], C: List[float], D: List[float]):\n",
        "    c_p = C + [0]\n",
        "    d_p = [0] * len(B)\n",
        "    X = [0] * len(B)\n",
        "\n",
        "    c_p[0] = C[0] / B[0]\n",
        "    d_p[0] = D[0] / B[0]\n",
        "    for i in range(1, len(B)):\n",
        "        c_p[i] = c_p[i] / (B[i] - c_p[i - 1] * A[i - 1])\n",
        "        d_p[i] = (D[i] - d_p[i - 1] * A[i - 1]) / (B[i] - c_p[i - 1] * A[i - 1])\n",
        "\n",
        "    X[-1] = d_p[-1]\n",
        "    for i in range(len(B) - 2, -1, -1):\n",
        "        X[i] = d_p[i] - c_p[i] * X[i + 1]\n",
        "\n",
        "    return X\n",
        "\n",
        "def compute_spline(x: List[float], y: List[float]):\n",
        "    n = len(x)\n",
        "    if n < 3:\n",
        "        raise ValueError('Too short an array')\n",
        "    if n != len(y):\n",
        "        raise ValueError('Array lengths are different')\n",
        "\n",
        "    h = compute_changes(x)\n",
        "    if any(v < 0 for v in h):\n",
        "        raise ValueError('X must be strictly increasing')\n",
        "\n",
        "    A, B, C = create_tridiagonalmatrix(n, h)\n",
        "    D = create_target(n, h, y)\n",
        "\n",
        "    M = solve_tridiagonalsystem(A, B, C, D)\n",
        "\n",
        "    coefficients = [[(M[i+1]-M[i])*h[i]*h[i]/6, M[i]*h[i]*h[i]/2, (y[i+1] - y[i] - (M[i+1]+2*M[i])*h[i]*h[i]/6), y[i]] for i in range(n-1)]\n",
        "\n",
        "    def spline(val):\n",
        "        idx = min(bisect.bisect(x, val)-1, n-2)\n",
        "        z = (val - x[idx]) / h[idx]\n",
        "        C = coefficients[idx]\n",
        "        return (((C[0] * z) + C[1]) * z + C[2]) * z + C[3]\n",
        "\n",
        "    return spline"
      ],
      "metadata": {
        "id": "gra6GmpKIZhB"
      },
      "execution_count": 33,
      "outputs": []
    },
    {
      "cell_type": "code",
      "source": [
        "test_x = np.linspace(0,1,50)\n",
        "test_y = spline_func(test_x,1/2)\n",
        "\n",
        "spline = compute_spline(test_x, test_y)\n",
        "\n",
        "for i, x in enumerate(test_x):\n",
        "    assert abs(test_y[i] - spline(x)) < 1e-8, f'Error at {x}, {test_y[i]}'\n",
        "\n",
        "x_vals = [v / 50 for v in range(0, 50, 1)]\n",
        "y_vals = [spline(y) for y in x_vals]\n",
        "\n",
        "\n",
        "## This is a trial to see if the function interpolates correctly for t = 0.5\n",
        "\n",
        "plt.title('Trial Graph for t=0.5')\n",
        "\n",
        "plt.plot(x_vals, y_vals,'r')\n"
      ],
      "metadata": {
        "colab": {
          "base_uri": "https://localhost:8080/",
          "height": 298
        },
        "id": "0bisP_pgIbJp",
        "outputId": "3e068442-f991-4ec3-9c88-5b9dd4aefdb6"
      },
      "execution_count": 34,
      "outputs": [
        {
          "output_type": "execute_result",
          "data": {
            "text/plain": [
              "[<matplotlib.lines.Line2D at 0x7f7a5ac52bd0>]"
            ]
          },
          "metadata": {},
          "execution_count": 34
        },
        {
          "output_type": "display_data",
          "data": {
            "text/plain": [
              "<Figure size 432x288 with 1 Axes>"
            ],
            "image/png": "[encoded data removed]"
          },
          "metadata": {
            "needs_background": "light"
          }
        }
      ]
    },
    {
      "cell_type": "code",
      "source": [
        "test_x = np.linspace(0,1,50)\n",
        "test_y = spline_func(test_x,0)\n",
        "\n",
        "spline = compute_spline(test_x, test_y)\n",
        "\n",
        "for i, x in enumerate(test_x):\n",
        "    assert abs(test_y[i] - spline(x)) < 1e-8, f'Error at {x}, {test_y[i]}'\n",
        "\n",
        "x_vals = [v / 50 for v in range(0, 50, 1)]\n",
        "y_vals = [-spline(y) for y in x_vals]\n",
        "\n",
        "# enable interactive mode\n",
        "plt.ion()\n",
        "# creating subplot and figure\n",
        "fig = plt.figure()\n",
        "ax = fig.add_subplot(1,1,1)\n",
        "line1, = ax.plot(x_vals[0], y_vals[0])\n",
        "\n",
        "# setting labels\n",
        "plt.xlim([0,1])\n",
        "plt.ylim([-3,3])\n",
        "\n",
        "\n",
        "# You are not going to see this as an animation in the colab. Please checkout the video.\n",
        " \n",
        "# looping\n",
        "for i in range(1,51):\n",
        "    plt.title(f\"Graph for Cubic spline of t{i}: {i/50}\")\n",
        "\n",
        "    x = np.linspace(0,1,50)\n",
        "    y = spline_func(test_x,i/50)\n",
        "    spline = compute_spline(x, y)\n",
        "\n",
        "    x_vals = [v / 50 for v in range(0, 50, 1)]\n",
        "    y_vals = [-spline(y) for y in x_vals]\n",
        "    # updating the value of x and y\n",
        "    line1.set_xdata(x_vals)\n",
        "    line1.set_ydata(y_vals)\n",
        " \n",
        "    # re-drawing the figure\n",
        "    fig.canvas.draw()\n",
        "     \n",
        "    # to flush the GUI events\n",
        "    fig.canvas.flush_events()\n",
        "    time.sleep(0.1)\n"
      ],
      "metadata": {
        "colab": {
          "base_uri": "https://localhost:8080/",
          "height": 281
        },
        "id": "Pq0DGEhrIeVX",
        "outputId": "95771b31-42d7-4f1c-c627-573412c78956"
      },
      "execution_count": 35,
      "outputs": [
        {
          "output_type": "display_data",
          "data": {
            "text/plain": [
              "<Figure size 432x288 with 1 Axes>"
            ],
            "image/png": "[encoded data removed]"
          },
          "metadata": {
            "needs_background": "light"
          }
        }
      ]
    },
    {
      "cell_type": "markdown",
      "source": [
        "Comments for Task 2: As it can be seen from the graphs, our interpolations approximated very well to our function for given values. Animated version of the graph for the t value from 0 to 50 can be found in the additional videos.\n",
        "\n",
        "\n",
        "\n"
      ],
      "metadata": {
        "id": "Mcv-8seMJxzF"
      }
    }
  ]
}