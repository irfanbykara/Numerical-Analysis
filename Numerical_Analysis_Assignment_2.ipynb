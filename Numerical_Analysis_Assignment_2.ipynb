{
  "nbformat": 4,
  "nbformat_minor": 0,
  "metadata": {
    "colab": {
      "provenance": [],
      "collapsed_sections": []
    },
    "kernelspec": {
      "name": "python3",
      "display_name": "Python 3"
    },
    "language_info": {
      "name": "python"
    }
  },
  "cells": [
    {
      "cell_type": "code",
      "source": [
        "import numpy as np \n",
        "from statistics import mean\n",
        "\n",
        "print(\"Importing done...\")"
      ],
      "metadata": {
        "colab": {
          "base_uri": "https://localhost:8080/"
        },
        "id": "nMFY9kobeqi_",
        "outputId": "4a63f381-b9ef-40da-e184-bfc8c7fbf91d"
      },
      "execution_count": 1,
      "outputs": [
        {
          "output_type": "stream",
          "name": "stdout",
          "text": [
            "Importing done...\n"
          ]
        }
      ]
    },
    {
      "cell_type": "code",
      "source": [
        "def f(x):\n",
        "    return np.sin(x)\n"
      ],
      "metadata": {
        "id": "JdBy7JqteoDj"
      },
      "execution_count": 3,
      "outputs": []
    },
    {
      "cell_type": "code",
      "source": [
        "lower_bound = 0\n",
        "upper_bound = np.pi/2"
      ],
      "metadata": {
        "id": "kWY3zvyBfXkM"
      },
      "execution_count": 13,
      "outputs": []
    },
    {
      "cell_type": "code",
      "execution_count": 5,
      "metadata": {
        "colab": {
          "base_uri": "https://localhost:8080/"
        },
        "id": "BeTereEfej0a",
        "outputId": "2e5bc1fd-5a90-46ea-b54c-92c076a8250b"
      },
      "outputs": [
        {
          "output_type": "stream",
          "name": "stdout",
          "text": [
            "Integration result by Midpoint method is: 1.001029\n"
          ]
        }
      ],
      "source": [
        "# Midpoint Method\n",
        "import numpy as np\n",
        "\n",
        "# Implementing trapezoidal method\n",
        "def midpoint(x0,xn,n):\n",
        "    # calculating step size\n",
        "    h = (xn - x0) / n\n",
        "    \n",
        "    # Finding sum \n",
        "    integration = 0\n",
        "    for i in range(0,n):\n",
        "        k = x0 + i*h\n",
        "        k = (k+(k+h))/2\n",
        "        integration = integration + f(k)\n",
        "    # Finding final integration value\n",
        "    integration = integration * h\n",
        "    \n",
        "    return integration\n",
        "    \n",
        "result = midpoint(lower_bound, upper_bound, 10)\n",
        "print(\"Integration result by Midpoint method is: %0.6f\" % (result) )\n",
        "\n",
        "\n",
        "\n"
      ]
    },
    {
      "cell_type": "code",
      "source": [
        "# To get the convergence rate\n",
        "\n",
        "def test_midpoint(expected): # Rate of convergence rate...\n",
        "  for i in range(2,21,2):\n",
        "    n = i\n",
        "    n_2 = (i*2)\n",
        "    result_1 = midpoint(lower_bound,upper_bound,n)\n",
        "    result_2 = midpoint(lower_bound,upper_bound,n_2)\n",
        "\n",
        "    error1 = abs(expected-result_1)\n",
        "    error2 = abs(expected-result_2)\n",
        "    conv_rate = np.log2(error1/error2)\n",
        "    \n",
        "    print (conv_rate)\n",
        "\n",
        "test_midpoint(1)\n"
      ],
      "metadata": {
        "colab": {
          "base_uri": "https://localhost:8080/"
        },
        "id": "lW4ALyF4e7Pg",
        "outputId": "ff1850ae-ec2a-4ff6-bdac-e601f0bea3f2"
      },
      "execution_count": 14,
      "outputs": [
        {
          "output_type": "stream",
          "name": "stdout",
          "text": [
            "2.01964579588489\n",
            "2.0048778650512484\n",
            "2.0021652016171485\n",
            "2.0012173878418333\n",
            "2.0007789689456303\n",
            "2.000540890597487\n",
            "2.0003973624114137\n",
            "2.0003042173775465\n",
            "2.000240362125989\n",
            "2.0001946891754834\n"
          ]
        }
      ]
    },
    {
      "cell_type": "code",
      "source": [
        "\n",
        "# Implementing trapezoidal method\n",
        "def trapezoidal(x0,xn,n):\n",
        "    # calculating step size\n",
        "    h = (xn - x0) / n\n",
        "    \n",
        "    integration = f(x0)*h/2\n",
        "    # Finding sum \n",
        "    for i in range(1,n):\n",
        "        k = x0 + i*h\n",
        "        integration = integration + h *f(k)\n",
        "    # Finding final integration value\n",
        "    integration = integration + f(xn)*h/2\n",
        "    \n",
        "    return integration\n",
        "\n",
        "result = trapezoidal(lower_bound, upper_bound, 10)\n",
        "print(\"Integration result by Trapezoidal method is: %0.6f\" % (result) )\n",
        "\n",
        "\n",
        "\n"
      ],
      "metadata": {
        "colab": {
          "base_uri": "https://localhost:8080/"
        },
        "id": "AgVw8pYcfACR",
        "outputId": "1a2db168-0854-4c40-f76d-6153d1b4c78f"
      },
      "execution_count": 15,
      "outputs": [
        {
          "output_type": "stream",
          "name": "stdout",
          "text": [
            "Integration result by Trapezoidal method is: 0.997943\n"
          ]
        }
      ]
    },
    {
      "cell_type": "code",
      "source": [
        "# To get the convergence rate\n",
        "\n",
        "def test_trapezoidal(expected):\n",
        "  for i in range(2,21,2):\n",
        "    n = i\n",
        "    n_2 = (i*2)\n",
        "    result_1 = trapezoidal(lower_bound,upper_bound,n)\n",
        "    result_2 = trapezoidal(lower_bound,upper_bound,n_2)\n",
        "\n",
        "    error1 = abs(expected-result_1)\n",
        "    error2 = abs(expected-result_2)\n",
        "    conv_rate = np.log2(error1/error2)\n",
        "    \n",
        "    print (conv_rate)\n",
        "\n",
        "test_trapezoidal(1)"
      ],
      "metadata": {
        "colab": {
          "base_uri": "https://localhost:8080/"
        },
        "id": "DFYHnhuhfG-F",
        "outputId": "7a2b20d1-3d53-4570-9d4c-57b8e0fedb3d"
      },
      "execution_count": 16,
      "outputs": [
        {
          "output_type": "stream",
          "name": "stdout",
          "text": [
            "2.0112584676114675\n",
            "2.002789343254769\n",
            "2.0012376505378815\n",
            "2.0006957742682303\n",
            "2.0004451759119304\n",
            "2.0003091048339283\n",
            "2.000227077451966\n",
            "2.0001738462495777\n",
            "2.000137354623203\n",
            "2.0001112541309705\n"
          ]
        }
      ]
    },
    {
      "cell_type": "code",
      "source": [
        "\n",
        "# Implementing simpsons method\n",
        "def simpsons(x0,xn,n):\n",
        "    # calculating step size\n",
        "    h = (xn - x0) / n\n",
        "    \n",
        "    first = f(x0)\n",
        "    last = f(xn)\n",
        "    integration = 0\n",
        "    # Finding sum \n",
        "    x = x0\n",
        "    for i in range(n-1):\n",
        "      x += h\n",
        "      val = f(x)\n",
        "      if i%2 ==0:\n",
        "        integration += 4*val\n",
        "      else:\n",
        "        integration += 2*val\n",
        "\n",
        "    total = (h/3)*(first+integration+last)        \n",
        "    # Finding final integration value\n",
        "    \n",
        "    return total\n",
        "    \n"
      ],
      "metadata": {
        "id": "UIJbRSHsfJzX"
      },
      "execution_count": 17,
      "outputs": []
    },
    {
      "cell_type": "code",
      "source": [
        "# To get the convergence rate\n",
        "\n",
        "\n",
        "def test_simpson(expected):\n",
        "  for i in range(2,21,2):\n",
        "    n = i\n",
        "    n_2 = (i*2)\n",
        "    result_1 = simpsons(lower_bound,upper_bound,n)\n",
        "    result_2 = simpsons(lower_bound,upper_bound,n_2)\n",
        "\n",
        "    error1 = abs(expected-result_1)\n",
        "    error2 = abs(expected-result_2)\n",
        "    conv_rate = np.log2(error1/error2)\n",
        "    \n",
        "    print (conv_rate)\n",
        "result = simpsons(lower_bound, upper_bound, 10)\n",
        "print(\"Integration result by Simpsons method is: %0.6f\" % (result) )\n",
        "test_simpson(1)"
      ],
      "metadata": {
        "colab": {
          "base_uri": "https://localhost:8080/"
        },
        "id": "46h8BSMWfOF0",
        "outputId": "847b5730-b592-4c88-f047-d0a38ace9ff3"
      },
      "execution_count": 18,
      "outputs": [
        {
          "output_type": "stream",
          "name": "stdout",
          "text": [
            "Integration result by Simpsons method is: 1.000003\n",
            "4.0823670505095135\n",
            "4.020040429727343\n",
            "4.0088631985604035\n",
            "4.004977022233514\n",
            "4.0031827759374625\n",
            "4.002209312663334\n",
            "4.001622746935592\n",
            "4.001242210701075\n",
            "4.000981404610545\n",
            "4.000794866246403\n"
          ]
        }
      ]
    },
    {
      "cell_type": "code",
      "source": [
        "\n",
        "# Implementing trapezoidal method forgetting halfing the h value in the endpoints.\n",
        "\n",
        "def trapezoidal_wrong(x0,xn,n):\n",
        "    # calculating step size\n",
        "    h = (xn - x0) / n\n",
        "    \n",
        "    integration = f(x0)*h\n",
        "    # Finding sum \n",
        "    for i in range(1,n):\n",
        "        k = x0 + i*h\n",
        "        integration = integration + h *f(k)\n",
        "    # Finding final integration value\n",
        "    integration = integration + f(xn)*h\n",
        "    \n",
        "    return integration\n",
        "\n",
        "\n",
        "result = trapezoidal_wrong(lower_bound, upper_bound, 10)\n",
        "print(\"Integration result by Trapezoidal method is: %0.6f\" % (result) )\n",
        "\n",
        "\n"
      ],
      "metadata": {
        "colab": {
          "base_uri": "https://localhost:8080/"
        },
        "id": "BP45ZFqnfOK4",
        "outputId": "393865ca-1fb8-4f90-aecc-b9014fbed8df"
      },
      "execution_count": 19,
      "outputs": [
        {
          "output_type": "stream",
          "name": "stdout",
          "text": [
            "Integration result by Trapezoidal method is: 1.076483\n"
          ]
        }
      ]
    },
    {
      "cell_type": "code",
      "source": [
        "# To get the convergence rate of the wrong trapezoidal method.\n",
        "\n",
        "def test_trapezoidal_wrong(expected):\n",
        "  for i in range(2,21,2):\n",
        "    n = i\n",
        "    n_2 = (i*2)\n",
        "    result_1 = trapezoidal_wrong(lower_bound,upper_bound,n)\n",
        "    result_2 = trapezoidal_wrong(lower_bound,upper_bound,n_2)\n",
        "\n",
        "    error1 = abs(expected-result_1)\n",
        "    error2 = abs(expected-result_2)\n",
        "    conv_rate = np.log2(error1/error2)\n",
        "    \n",
        "    print (conv_rate)\n",
        "\n",
        "test_trapezoidal_wrong(1)\n"
      ],
      "metadata": {
        "colab": {
          "base_uri": "https://localhost:8080/"
        },
        "id": "STHcJcH5fota",
        "outputId": "a486eef5-51f3-4577-aa64-9f556a8bf394"
      },
      "execution_count": 20,
      "outputs": [
        {
          "output_type": "stream",
          "name": "stdout",
          "text": [
            "0.8932422230797604\n",
            "0.9501165876903148\n",
            "0.9673929210672502\n",
            "0.9757718970468692\n",
            "0.9807226589015748\n",
            "0.9839926322988344\n",
            "0.9863137984714805\n",
            "0.9880468879603295\n",
            "0.9893903026154902\n",
            "0.9904622052326831\n"
          ]
        }
      ]
    },
    {
      "cell_type": "markdown",
      "source": [
        "Question 2."
      ],
      "metadata": {
        "id": "P55Rjq0UpyGp"
      }
    },
    {
      "cell_type": "code",
      "source": [
        "def f(x,y):\n",
        "    return y - y**3\n"
      ],
      "metadata": {
        "id": "waE2wgUnf1Ez"
      },
      "execution_count": 21,
      "outputs": []
    },
    {
      "cell_type": "code",
      "source": [
        "def euler_method(y0,T,N,verbose=False):\n",
        "    \n",
        "    # Calculating step size\n",
        "    \n",
        "    h = T/N\n",
        "    x0 = 0\n",
        "    if verbose:\n",
        "      print('\\n-----------SOLUTION-----------')\n",
        "      print('------------------------------')    \n",
        "      print('x0\\ty0\\tslope\\tyn')\n",
        "      print('------------------------------')\n",
        "    res_list = list()\n",
        "    for i in range(N):\n",
        "        slope = f(x0, y0)\n",
        "        yn = y0 + h * slope\n",
        "        if verbose:\n",
        "          print('%.4f\\t%.4f\\t%0.4f\\t%.4f'% (x0,y0,slope,yn) )\n",
        "          print('------------------------------')\n",
        "        y0 = yn\n",
        "        x0 = x0+h\n",
        "        res_list.append(yn)\n",
        "    return res_list\n",
        "# Euler method call\n",
        "euler_method(0.1,1,10,verbose=True)\n",
        "\n"
      ],
      "metadata": {
        "colab": {
          "base_uri": "https://localhost:8080/"
        },
        "id": "BlDV8JRbf4xI",
        "outputId": "8d115d82-b4da-4bd6-87a9-897dbd22c436"
      },
      "execution_count": 27,
      "outputs": [
        {
          "output_type": "stream",
          "name": "stdout",
          "text": [
            "\n",
            "-----------SOLUTION-----------\n",
            "------------------------------\n",
            "x0\ty0\tslope\tyn\n",
            "------------------------------\n",
            "0.0000\t0.1000\t0.0990\t0.1099\n",
            "------------------------------\n",
            "0.1000\t0.1099\t0.1086\t0.1208\n",
            "------------------------------\n",
            "0.2000\t0.1208\t0.1190\t0.1327\n",
            "------------------------------\n",
            "0.3000\t0.1327\t0.1303\t0.1457\n",
            "------------------------------\n",
            "0.4000\t0.1457\t0.1426\t0.1599\n",
            "------------------------------\n",
            "0.5000\t0.1599\t0.1559\t0.1755\n",
            "------------------------------\n",
            "0.6000\t0.1755\t0.1701\t0.1925\n",
            "------------------------------\n",
            "0.7000\t0.1925\t0.1854\t0.2111\n",
            "------------------------------\n",
            "0.8000\t0.2111\t0.2017\t0.2313\n",
            "------------------------------\n",
            "0.9000\t0.2313\t0.2189\t0.2531\n",
            "------------------------------\n"
          ]
        },
        {
          "output_type": "execute_result",
          "data": {
            "text/plain": [
              "[0.10990000000000001,\n",
              " 0.12075726267010001,\n",
              " 0.13265689687486715,\n",
              " 0.1456891389147288,\n",
              " 0.15994882287107764,\n",
              " 0.1755344980728322,\n",
              " 0.19254708466517131,\n",
              " 0.21108793675681112,\n",
              " 0.23125616233322838,\n",
              " 0.2531450341939848]"
            ]
          },
          "metadata": {},
          "execution_count": 27
        }
      ]
    },
    {
      "cell_type": "code",
      "source": [
        "\n",
        "def euler_method_implicit(y0,T,N,verbose=False):\n",
        "    \n",
        "    # Calculating step size\n",
        "    \n",
        "    h = T/N\n",
        "    x0 = 0\n",
        "    \n",
        "    if verbose:\n",
        "      print('\\n-----------SOLUTION-----------')\n",
        "      print('------------------------------')    \n",
        "      print('x0\\ty0\\tslope\\tyn')\n",
        "      print('------------------------------')\n",
        "    res_list = list()\n",
        "    for i in range(N):\n",
        "        slope = f(x0,f(x0, y0)) # Simple iterator approach here. Because I am too lazy to apply others :) x1 = f(x0)\n",
        "        yn = y0 + h * slope\n",
        "        if verbose:\n",
        "          print('%.4f\\t%.4f\\t%0.4f\\t%.4f'% (x0,y0,slope,yn) )\n",
        "          print('------------------------------')\n",
        "        y0 = yn\n",
        "        x0 = x0+h\n",
        "        res_list.append(yn)\n",
        "    return res_list\n",
        "\n",
        "    \n",
        "# Backward Euler method call\n",
        "euler_method_implicit(0.1,1,10,verbose=True)\n"
      ],
      "metadata": {
        "colab": {
          "base_uri": "https://localhost:8080/"
        },
        "id": "fsq1zS6hgDqp",
        "outputId": "24361a36-9204-402a-baf5-71094b1d00ef"
      },
      "execution_count": 23,
      "outputs": [
        {
          "output_type": "stream",
          "name": "stdout",
          "text": [
            "\n",
            "-----------SOLUTION-----------\n",
            "------------------------------\n",
            "x0\ty0\tslope\tyn\n",
            "------------------------------\n",
            "0.0000\t0.1000\t0.0980\t0.1098\n",
            "------------------------------\n",
            "0.1000\t0.1098\t0.1072\t0.1205\n",
            "------------------------------\n",
            "0.2000\t0.1205\t0.1171\t0.1322\n",
            "------------------------------\n",
            "0.3000\t0.1322\t0.1277\t0.1450\n",
            "------------------------------\n",
            "0.4000\t0.1450\t0.1391\t0.1589\n",
            "------------------------------\n",
            "0.5000\t0.1589\t0.1512\t0.1740\n",
            "------------------------------\n",
            "0.6000\t0.1740\t0.1640\t0.1904\n",
            "------------------------------\n",
            "0.7000\t0.1904\t0.1773\t0.2082\n",
            "------------------------------\n",
            "0.8000\t0.2082\t0.1912\t0.2273\n",
            "------------------------------\n",
            "0.9000\t0.2273\t0.2055\t0.2478\n",
            "------------------------------\n"
          ]
        },
        {
          "output_type": "execute_result",
          "data": {
            "text/plain": [
              "[0.10980297010000001,\n",
              " 0.12052322590003134,\n",
              " 0.13223292692509653,\n",
              " 0.14500570460471732,\n",
              " 0.15891530951294136,\n",
              " 0.17403383256685423,\n",
              " 0.1904294552740291,\n",
              " 0.20816371263692698,\n",
              " 0.22728829979579743,\n",
              " 0.24784152241086843]"
            ]
          },
          "metadata": {},
          "execution_count": 23
        }
      ]
    },
    {
      "cell_type": "code",
      "source": [
        "def crank_nicolson(y0,T,N,verbose=False):\n",
        "    \n",
        "    # Calculating step size\n",
        "    \n",
        "    h = T/N\n",
        "    x0 = 0\n",
        "\n",
        "    if verbose:\n",
        "      print('\\n-----------SOLUTION-----------')\n",
        "      print('------------------------------')    \n",
        "      print('x0\\ty0\\tslope\\tyn')\n",
        "      print('------------------------------')\n",
        "    res_list = list()\n",
        "    for i in range(N):\n",
        "        slope_primer = f(x0,y0)\n",
        "        slope_seconder = f(x0,f(x0, y0)) # Simple iterator approach here. Because I am too lazy to apply others :) x1 = f(x0)\n",
        "        yn = y0 + h * slope_primer / 2 + h* slope_seconder / 2\n",
        "        if verbose:\n",
        "          print('%.4f\\t%.4f\\t%0.4f\\t%.4f'% (x0,y0,slope_primer,yn) )\n",
        "          print('------------------------------')\n",
        "        y0 = yn\n",
        "        x0 = x0+h\n",
        "        res_list.append(yn)\n",
        "    return res_list\n",
        "# Crank nicholson method call\n",
        "euler_method_implicit(0.1,1,10,verbose=True)"
      ],
      "metadata": {
        "colab": {
          "base_uri": "https://localhost:8080/"
        },
        "id": "pfU9bMRlgJao",
        "outputId": "864deaf0-102c-4f0e-b5b3-980eed46ee49"
      },
      "execution_count": 24,
      "outputs": [
        {
          "output_type": "stream",
          "name": "stdout",
          "text": [
            "\n",
            "-----------SOLUTION-----------\n",
            "------------------------------\n",
            "x0\ty0\tslope\tyn\n",
            "------------------------------\n",
            "0.0000\t0.1000\t0.0980\t0.1098\n",
            "------------------------------\n",
            "0.1000\t0.1098\t0.1072\t0.1205\n",
            "------------------------------\n",
            "0.2000\t0.1205\t0.1171\t0.1322\n",
            "------------------------------\n",
            "0.3000\t0.1322\t0.1277\t0.1450\n",
            "------------------------------\n",
            "0.4000\t0.1450\t0.1391\t0.1589\n",
            "------------------------------\n",
            "0.5000\t0.1589\t0.1512\t0.1740\n",
            "------------------------------\n",
            "0.6000\t0.1740\t0.1640\t0.1904\n",
            "------------------------------\n",
            "0.7000\t0.1904\t0.1773\t0.2082\n",
            "------------------------------\n",
            "0.8000\t0.2082\t0.1912\t0.2273\n",
            "------------------------------\n",
            "0.9000\t0.2273\t0.2055\t0.2478\n",
            "------------------------------\n"
          ]
        },
        {
          "output_type": "execute_result",
          "data": {
            "text/plain": [
              "[0.10980297010000001,\n",
              " 0.12052322590003134,\n",
              " 0.13223292692509653,\n",
              " 0.14500570460471732,\n",
              " 0.15891530951294136,\n",
              " 0.17403383256685423,\n",
              " 0.1904294552740291,\n",
              " 0.20816371263692698,\n",
              " 0.22728829979579743,\n",
              " 0.24784152241086843]"
            ]
          },
          "metadata": {},
          "execution_count": 24
        }
      ]
    },
    {
      "cell_type": "code",
      "source": [
        "# Let's compute the real y value.\n",
        "def y_real(t,y0):\n",
        "  return y0/(np.sqrt(y0**2-(y0**2-1)*np.exp(-2*t)))\n",
        "\n",
        "for i in np.linspace(0.1,1,num=10):\n",
        "  print(i,y_real(i,0.1))"
      ],
      "metadata": {
        "colab": {
          "base_uri": "https://localhost:8080/"
        },
        "id": "Wsa1p2JDgORO",
        "outputId": "a325573b-821c-4f3f-9203-0877ed3d41c4"
      },
      "execution_count": 25,
      "outputs": [
        {
          "output_type": "stream",
          "name": "stdout",
          "text": [
            "0.1 0.11039495064336538\n",
            "0.2 0.12184102119967523\n",
            "0.30000000000000004 0.13443440661522732\n",
            "0.4 0.14827664117517736\n",
            "0.5 0.16347364004448922\n",
            "0.6 0.18013420005975259\n",
            "0.7000000000000001 0.19836780244960586\n",
            "0.8 0.2182815375149281\n",
            "0.9 0.2399759579897237\n",
            "1.0 0.2635396737805913\n"
          ]
        }
      ]
    },
    {
      "cell_type": "code",
      "source": [
        "# Get the difference between the real value and approximated values.\n",
        "def error_checker(approx_method, real_method,y0,T,N ):\n",
        "  approx_result = approx_method(y0,T,N)\n",
        "  real_result = list()\n",
        "  for i in np.linspace(0.1,1,num=10):\n",
        "    real_result.append(y_real(i,0.1))\n",
        "\n",
        "  mean_diff = mean(abs(x - y) for x, y in zip(approx_result, real_result))\n",
        "  return mean_diff\n",
        "\n",
        "\n",
        "res = error_checker(euler_method,y_real,0.1,1,100)\n",
        "res"
      ],
      "metadata": {
        "colab": {
          "base_uri": "https://localhost:8080/"
        },
        "id": "EVrHH2ykgRdX",
        "outputId": "31b0c52c-e1b3-482e-8e29-eda38a436d55"
      },
      "execution_count": 42,
      "outputs": [
        {
          "output_type": "execute_result",
          "data": {
            "text/plain": [
              "0.07226568113821218"
            ]
          },
          "metadata": {},
          "execution_count": 42
        }
      ]
    },
    {
      "cell_type": "code",
      "source": [
        "# Checking the convergence rates of error term depending on the h->0...\n",
        "\n",
        "def rate_checker(approx_method):\n",
        "  rate_dict = dict()\n",
        "  for i in range(10,1001,10):\n",
        "    res = error_checker(approx_method,y_real,0.1,1,i) # Decreasing h by increasing N value here.\n",
        "    if abs(res - round(res)) <= 0.01:\n",
        "      print(\" The value is so close to an integer value !\")\n",
        "    rate_dict[str(i)] = res\n",
        "    if i>10:\n",
        "      if abs(rate_dict[str(i-10)]- res)<0.01:\n",
        "        print(\"Change in the rate is so small now!\")\n",
        "        print(f\"Previous value: {rate_dict[str(i-10)]}, current value: {res}\")\n",
        "        break\n",
        "\n",
        "rate_checker(euler_method_implicit)\n",
        "\n",
        "    "
      ],
      "metadata": {
        "colab": {
          "base_uri": "https://localhost:8080/"
        },
        "id": "VC6eOWIUoAk4",
        "outputId": "4f8d636f-2be8-498e-a746-8152acd41ac8"
      },
      "execution_count": 43,
      "outputs": [
        {
          "output_type": "stream",
          "name": "stdout",
          "text": [
            "\n",
            "-----------SOLUTION-----------\n",
            "------------------------------\n",
            "x0\ty0\tslope\tyn\n",
            "------------------------------\n",
            "0.0000\t0.1000\t0.0980\t0.1098\n",
            "------------------------------\n",
            "0.1000\t0.1098\t0.1072\t0.1205\n",
            "------------------------------\n",
            "0.2000\t0.1205\t0.1171\t0.1322\n",
            "------------------------------\n",
            "0.3000\t0.1322\t0.1277\t0.1450\n",
            "------------------------------\n",
            "0.4000\t0.1450\t0.1391\t0.1589\n",
            "------------------------------\n",
            "0.5000\t0.1589\t0.1512\t0.1740\n",
            "------------------------------\n",
            "0.6000\t0.1740\t0.1640\t0.1904\n",
            "------------------------------\n",
            "0.7000\t0.1904\t0.1773\t0.2082\n",
            "------------------------------\n",
            "0.8000\t0.2082\t0.1912\t0.2273\n",
            "------------------------------\n",
            "0.9000\t0.2273\t0.2055\t0.2478\n",
            "------------------------------\n",
            " The value is so close to an integer value !\n",
            "\n",
            "-----------SOLUTION-----------\n",
            "------------------------------\n",
            "x0\ty0\tslope\tyn\n",
            "------------------------------\n",
            "0.0000\t0.1000\t0.0980\t0.1049\n",
            "------------------------------\n",
            "0.0500\t0.1049\t0.1026\t0.1100\n",
            "------------------------------\n",
            "0.1000\t0.1100\t0.1074\t0.1154\n",
            "------------------------------\n",
            "0.1500\t0.1154\t0.1124\t0.1210\n",
            "------------------------------\n",
            "0.2000\t0.1210\t0.1176\t0.1269\n",
            "------------------------------\n",
            "0.2500\t0.1269\t0.1229\t0.1330\n",
            "------------------------------\n",
            "0.3000\t0.1330\t0.1285\t0.1395\n",
            "------------------------------\n",
            "0.3500\t0.1395\t0.1342\t0.1462\n",
            "------------------------------\n",
            "0.4000\t0.1462\t0.1401\t0.1532\n",
            "------------------------------\n",
            "0.4500\t0.1532\t0.1462\t0.1605\n",
            "------------------------------\n",
            "0.5000\t0.1605\t0.1525\t0.1681\n",
            "------------------------------\n",
            "0.5500\t0.1681\t0.1590\t0.1761\n",
            "------------------------------\n",
            "0.6000\t0.1761\t0.1657\t0.1844\n",
            "------------------------------\n",
            "0.6500\t0.1844\t0.1724\t0.1930\n",
            "------------------------------\n",
            "0.7000\t0.1930\t0.1794\t0.2019\n",
            "------------------------------\n",
            "0.7500\t0.2019\t0.1864\t0.2113\n",
            "------------------------------\n",
            "0.8000\t0.2113\t0.1936\t0.2210\n",
            "------------------------------\n",
            "0.8500\t0.2210\t0.2009\t0.2310\n",
            "------------------------------\n",
            "0.9000\t0.2310\t0.2082\t0.2414\n",
            "------------------------------\n",
            "0.9500\t0.2414\t0.2156\t0.2522\n",
            "------------------------------\n",
            "\n",
            "-----------SOLUTION-----------\n",
            "------------------------------\n",
            "x0\ty0\tslope\tyn\n",
            "------------------------------\n",
            "0.0000\t0.1000\t0.0980\t0.1033\n",
            "------------------------------\n",
            "0.0333\t0.1033\t0.1011\t0.1066\n",
            "------------------------------\n",
            "0.0667\t0.1066\t0.1043\t0.1101\n",
            "------------------------------\n",
            "0.1000\t0.1101\t0.1075\t0.1137\n",
            "------------------------------\n",
            "0.1333\t0.1137\t0.1108\t0.1174\n",
            "------------------------------\n",
            "0.1667\t0.1174\t0.1142\t0.1212\n",
            "------------------------------\n",
            "0.2000\t0.1212\t0.1177\t0.1251\n",
            "------------------------------\n",
            "0.2333\t0.1251\t0.1213\t0.1292\n",
            "------------------------------\n",
            "0.2667\t0.1292\t0.1250\t0.1333\n",
            "------------------------------\n",
            "0.3000\t0.1333\t0.1287\t0.1376\n",
            "------------------------------\n",
            "0.3333\t0.1376\t0.1326\t0.1420\n",
            "------------------------------\n",
            "0.3667\t0.1420\t0.1365\t0.1466\n",
            "------------------------------\n",
            "0.4000\t0.1466\t0.1405\t0.1513\n",
            "------------------------------\n",
            "0.4333\t0.1513\t0.1446\t0.1561\n",
            "------------------------------\n",
            "0.4667\t0.1561\t0.1488\t0.1610\n",
            "------------------------------\n",
            "0.5000\t0.1610\t0.1530\t0.1661\n",
            "------------------------------\n",
            "0.5333\t0.1661\t0.1573\t0.1714\n",
            "------------------------------\n",
            "0.5667\t0.1714\t0.1618\t0.1768\n",
            "------------------------------\n",
            "0.6000\t0.1768\t0.1662\t0.1823\n",
            "------------------------------\n",
            "0.6333\t0.1823\t0.1708\t0.1880\n",
            "------------------------------\n",
            "0.6667\t0.1880\t0.1754\t0.1939\n",
            "------------------------------\n",
            "0.7000\t0.1939\t0.1801\t0.1999\n",
            "------------------------------\n",
            "0.7333\t0.1999\t0.1848\t0.2060\n",
            "------------------------------\n",
            "0.7667\t0.2060\t0.1896\t0.2123\n",
            "------------------------------\n",
            "0.8000\t0.2123\t0.1944\t0.2188\n",
            "------------------------------\n",
            "0.8333\t0.2188\t0.1993\t0.2255\n",
            "------------------------------\n",
            "0.8667\t0.2255\t0.2042\t0.2323\n",
            "------------------------------\n",
            "0.9000\t0.2323\t0.2091\t0.2393\n",
            "------------------------------\n",
            "0.9333\t0.2393\t0.2141\t0.2464\n",
            "------------------------------\n",
            "0.9667\t0.2464\t0.2190\t0.2537\n",
            "------------------------------\n",
            "\n",
            "-----------SOLUTION-----------\n",
            "------------------------------\n",
            "x0\ty0\tslope\tyn\n",
            "------------------------------\n",
            "0.0000\t0.1000\t0.0980\t0.1025\n",
            "------------------------------\n",
            "0.0250\t0.1025\t0.1003\t0.1050\n",
            "------------------------------\n",
            "0.0500\t0.1050\t0.1027\t0.1075\n",
            "------------------------------\n",
            "0.0750\t0.1075\t0.1051\t0.1102\n",
            "------------------------------\n",
            "0.1000\t0.1102\t0.1075\t0.1128\n",
            "------------------------------\n",
            "0.1250\t0.1128\t0.1100\t0.1156\n",
            "------------------------------\n",
            "0.1500\t0.1156\t0.1126\t0.1184\n",
            "------------------------------\n",
            "0.1750\t0.1184\t0.1152\t0.1213\n",
            "------------------------------\n",
            "0.2000\t0.1213\t0.1178\t0.1242\n",
            "------------------------------\n",
            "0.2250\t0.1242\t0.1205\t0.1272\n",
            "------------------------------\n",
            "0.2500\t0.1272\t0.1232\t0.1303\n",
            "------------------------------\n",
            "0.2750\t0.1303\t0.1260\t0.1335\n",
            "------------------------------\n",
            "0.3000\t0.1335\t0.1288\t0.1367\n",
            "------------------------------\n",
            "0.3250\t0.1367\t0.1317\t0.1400\n",
            "------------------------------\n",
            "0.3500\t0.1400\t0.1347\t0.1434\n",
            "------------------------------\n",
            "0.3750\t0.1434\t0.1376\t0.1468\n",
            "------------------------------\n",
            "0.4000\t0.1468\t0.1407\t0.1503\n",
            "------------------------------\n",
            "0.4250\t0.1503\t0.1437\t0.1539\n",
            "------------------------------\n",
            "0.4500\t0.1539\t0.1469\t0.1576\n",
            "------------------------------\n",
            "0.4750\t0.1576\t0.1500\t0.1613\n",
            "------------------------------\n",
            "0.5000\t0.1613\t0.1532\t0.1652\n",
            "------------------------------\n",
            "0.5250\t0.1652\t0.1565\t0.1691\n",
            "------------------------------\n",
            "0.5500\t0.1691\t0.1598\t0.1731\n",
            "------------------------------\n",
            "0.5750\t0.1731\t0.1632\t0.1771\n",
            "------------------------------\n",
            "0.6000\t0.1771\t0.1665\t0.1813\n",
            "------------------------------\n",
            "0.6250\t0.1813\t0.1700\t0.1856\n",
            "------------------------------\n",
            "0.6500\t0.1856\t0.1734\t0.1899\n",
            "------------------------------\n",
            "0.6750\t0.1899\t0.1769\t0.1943\n",
            "------------------------------\n",
            "0.7000\t0.1943\t0.1804\t0.1988\n",
            "------------------------------\n",
            "0.7250\t0.1988\t0.1840\t0.2034\n",
            "------------------------------\n",
            "0.7500\t0.2034\t0.1876\t0.2081\n",
            "------------------------------\n",
            "0.7750\t0.2081\t0.1912\t0.2129\n",
            "------------------------------\n",
            "0.8000\t0.2129\t0.1949\t0.2178\n",
            "------------------------------\n",
            "0.8250\t0.2178\t0.1985\t0.2227\n",
            "------------------------------\n",
            "0.8500\t0.2227\t0.2022\t0.2278\n",
            "------------------------------\n",
            "0.8750\t0.2278\t0.2059\t0.2329\n",
            "------------------------------\n",
            "0.9000\t0.2329\t0.2096\t0.2382\n",
            "------------------------------\n",
            "0.9250\t0.2382\t0.2133\t0.2435\n",
            "------------------------------\n",
            "0.9500\t0.2435\t0.2170\t0.2489\n",
            "------------------------------\n",
            "0.9750\t0.2489\t0.2208\t0.2545\n",
            "------------------------------\n",
            "Change in the rate is so small now!\n",
            "Previous value: 0.058118641472570245, current value: 0.06340342801494644\n"
          ]
        }
      ]
    }
  ]
}